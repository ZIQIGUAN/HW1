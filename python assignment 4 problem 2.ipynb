{
 "cells": [
  {
   "cell_type": "code",
   "execution_count": 1,
   "id": "862b4fb2-319c-47fe-b47f-8488061f1501",
   "metadata": {},
   "outputs": [],
   "source": [
    "def getparkinghours(hours):\n",
    "    hours = float(input('Enter number of hours parked:'))\n",
    "    return hours"
   ]
  },
  {
   "cell_type": "code",
   "execution_count": 2,
   "id": "8b3781f5-e576-47da-8893-d537c9ef5c8b",
   "metadata": {},
   "outputs": [],
   "source": [
    "def calcparkingfee(hours):\n",
    "    if hours <= 2.4:\n",
    "        fee = 6\n",
    "    elif hours >= 8:\n",
    "        fee = 20\n",
    "    else:\n",
    "        fee = hours * 2.5\n",
    "    return fee"
   ]
  },
  {
   "cell_type": "code",
   "execution_count": 3,
   "id": "83bc8f65-c76a-4c08-a378-7dd24dc242e1",
   "metadata": {},
   "outputs": [],
   "source": [
    "def main(fee):\n",
    "    print('Fee = $ ',fee)\n",
    "    return fee"
   ]
  },
  {
   "cell_type": "code",
   "execution_count": 4,
   "id": "fb983e34-7c41-4fe8-b6d7-8bcddefec141",
   "metadata": {},
   "outputs": [
    {
     "name": "stdin",
     "output_type": "stream",
     "text": [
      "Enter number of hours parked: 10\n"
     ]
    },
    {
     "name": "stdout",
     "output_type": "stream",
     "text": [
      "Fee = $  20\n"
     ]
    }
   ],
   "source": [
    "hours = 0\n",
    "hours = getparkinghours(hours) \n",
    "output = main(calcparkingfee(hours))"
   ]
  },
  {
   "cell_type": "code",
   "execution_count": 5,
   "id": "55a2cc78-4ff3-48d6-a02c-611102e8fe05",
   "metadata": {},
   "outputs": [
    {
     "name": "stdout",
     "output_type": "stream",
     "text": [
      "<class 'float'>\n"
     ]
    }
   ],
   "source": [
    "a=type(hours)\n",
    "print(a)"
   ]
  },
  {
   "cell_type": "code",
   "execution_count": null,
   "id": "268e4fd5-7122-44e0-9ad3-a5fa33546bb0",
   "metadata": {},
   "outputs": [],
   "source": []
  }
 ],
 "metadata": {
  "kernelspec": {
   "display_name": "Python 3",
   "language": "python",
   "name": "python3"
  },
  "language_info": {
   "codemirror_mode": {
    "name": "ipython",
    "version": 3
   },
   "file_extension": ".py",
   "mimetype": "text/x-python",
   "name": "python",
   "nbconvert_exporter": "python",
   "pygments_lexer": "ipython3",
   "version": "3.8.8"
  }
 },
 "nbformat": 4,
 "nbformat_minor": 5
}
